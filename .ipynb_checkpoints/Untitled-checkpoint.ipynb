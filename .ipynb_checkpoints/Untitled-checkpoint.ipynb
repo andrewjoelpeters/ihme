{
 "cells": [
  {
   "cell_type": "code",
   "execution_count": null,
   "metadata": {},
   "outputs": [],
   "source": [
    "import os\n",
    "import pandas"
   ]
  },
  {
   "cell_type": "code",
   "execution_count": null,
   "metadata": {},
   "outputs": [],
   "source": [
    "directory = '/Users/catpalace/Desktop/ihme/data'\n",
    "df_dict = {}\n",
    "\n",
    "for root,dirs,files in os.walk(directory):\n",
    "    for idx, file in enumerate(files):\n",
    "       with open(file) as f:\n",
    "           df_dict[file] =  pd.read_csv(f)"
   ]
  }
 ],
 "metadata": {
  "kernelspec": {
   "display_name": "Python 3",
   "language": "python",
   "name": "python3"
  },
  "language_info": {
   "codemirror_mode": {
    "name": "ipython",
    "version": 3
   },
   "file_extension": ".py",
   "mimetype": "text/x-python",
   "name": "python",
   "nbconvert_exporter": "python",
   "pygments_lexer": "ipython3",
   "version": "3.7.6"
  }
 },
 "nbformat": 4,
 "nbformat_minor": 4
}
