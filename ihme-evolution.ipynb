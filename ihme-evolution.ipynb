{
 "cells": [
  {
   "cell_type": "code",
   "execution_count": 1,
   "metadata": {},
   "outputs": [],
   "source": [
    "import os\n",
    "import glob\n",
    "import pandas as pd\n",
    "import numpy as np\n",
    "from datetime import datetime, timedelta\n",
    "import plotly.express as px\n",
    "from plotly.offline import plot\n",
    "import plotly.graph_objects as go"
   ]
  },
  {
   "cell_type": "code",
   "execution_count": 97,
   "metadata": {
    "tags": [
     "outputPrepend",
     "outputPrepend",
     "outputPrepend",
     "outputPrepend"
    ]
   },
   "outputs": [],
   "source": [
    "path = '/Users/andrewjpeters/Documents/GitHub/ihme/ihme_data'\n",
    "extension = 'csv'\n",
    "df_dict = {}\n",
    "\n",
    "os.chdir(path)\n",
    "result = glob.glob('*.{}'.format(extension))\n",
    "for file in result:\n",
    "    month = file[2:4]\n",
    "    day = file[0:2]\n",
    "    df_dict[month + '-' + day] = pd.read_csv(path + '/' + file)"
   ]
  },
  {
   "cell_type": "code",
   "execution_count": 98,
   "metadata": {
    "tags": [
     "outputPrepend",
     "outputPrepend"
    ]
   },
   "outputs": [],
   "source": [
    "df = pd.DataFrame()\n",
    "\n",
    "for key, df_part in df_dict.items():\n",
    "    date = datetime.strptime(key + '-2020', '%m-%d-%Y')\n",
    "    df_part['version'] = date.strftime('%Y-%m-%d')\n",
    "    if 'date_reported' in df_part.columns:\n",
    "        df_part['date'] = df_part['date_reported']\n",
    "    if 'location_name' in df_part.columns:\n",
    "        df_part['location'] = df_part['location_name'] \n",
    "    df_part = df_part.sort_values('date')    \n",
    "    df = df.append(df_part[['location', 'deaths_lower', 'deaths_mean', 'deaths_upper','date', 'version']], ignore_index=True)\n",
    "\n",
    "df = df.sort_values(['version', 'date'])"
   ]
  },
  {
   "cell_type": "code",
   "execution_count": 106,
   "metadata": {},
   "outputs": [
    {
     "output_type": "execute_result",
     "data": {
      "text/plain": "                       location  deaths_lower  deaths_mean  deaths_upper  \\\n89635  United States of America           0.0          0.0           0.0   \n89717  United States of America           0.0          0.0           0.0   \n89787  United States of America           0.0          0.0           0.0   \n89798  United States of America           0.0          0.0           0.0   \n89900  United States of America           0.0          0.0           0.0   \n\n             date     version  \n89635  2020-02-06  2020-03-26  \n89717  2020-02-07  2020-03-26  \n89787  2020-02-08  2020-03-26  \n89798  2020-02-09  2020-03-26  \n89900  2020-02-10  2020-03-26  ",
      "text/html": "<div>\n<style scoped>\n    .dataframe tbody tr th:only-of-type {\n        vertical-align: middle;\n    }\n\n    .dataframe tbody tr th {\n        vertical-align: top;\n    }\n\n    .dataframe thead th {\n        text-align: right;\n    }\n</style>\n<table border=\"1\" class=\"dataframe\">\n  <thead>\n    <tr style=\"text-align: right;\">\n      <th></th>\n      <th>location</th>\n      <th>deaths_lower</th>\n      <th>deaths_mean</th>\n      <th>deaths_upper</th>\n      <th>date</th>\n      <th>version</th>\n    </tr>\n  </thead>\n  <tbody>\n    <tr>\n      <td>89635</td>\n      <td>United States of America</td>\n      <td>0.0</td>\n      <td>0.0</td>\n      <td>0.0</td>\n      <td>2020-02-06</td>\n      <td>2020-03-26</td>\n    </tr>\n    <tr>\n      <td>89717</td>\n      <td>United States of America</td>\n      <td>0.0</td>\n      <td>0.0</td>\n      <td>0.0</td>\n      <td>2020-02-07</td>\n      <td>2020-03-26</td>\n    </tr>\n    <tr>\n      <td>89787</td>\n      <td>United States of America</td>\n      <td>0.0</td>\n      <td>0.0</td>\n      <td>0.0</td>\n      <td>2020-02-08</td>\n      <td>2020-03-26</td>\n    </tr>\n    <tr>\n      <td>89798</td>\n      <td>United States of America</td>\n      <td>0.0</td>\n      <td>0.0</td>\n      <td>0.0</td>\n      <td>2020-02-09</td>\n      <td>2020-03-26</td>\n    </tr>\n    <tr>\n      <td>89900</td>\n      <td>United States of America</td>\n      <td>0.0</td>\n      <td>0.0</td>\n      <td>0.0</td>\n      <td>2020-02-10</td>\n      <td>2020-03-26</td>\n    </tr>\n  </tbody>\n</table>\n</div>"
     },
     "metadata": {},
     "execution_count": 106
    }
   ],
   "source": [
    "df_usa = df[df['location'] == 'United States of America']\n",
    "df_usa.head()"
   ]
  },
  {
   "cell_type": "code",
   "execution_count": 107,
   "metadata": {},
   "outputs": [],
   "source": [
    "cumulative_deaths_lower = []\n",
    "cumulative_deaths_mean = []\n",
    "cumulative_deaths_upper = []\n",
    "\n",
    "for version in df_usa.version.unique():\n",
    "    values_lower = df_usa[df_usa['version'] == version].deaths_lower.cumsum().values\n",
    "    values_mean = df_usa[df_usa['version'] == version].deaths_mean.cumsum().values\n",
    "    values_upper = df_usa[df_usa['version'] == version].deaths_upper.cumsum().values\n",
    "    cumulative_deaths_lower.extend(values_lower)\n",
    "    cumulative_deaths_mean.extend(values_mean)\n",
    "    cumulative_deaths_upper.extend(values_upper)\n",
    "df_usa['cumulative_deaths_lower'] = cumulative_deaths_lower\n",
    "df_usa['cumulative_deaths_mean'] = cumulative_deaths_mean\n",
    "df_usa['cumulative_deaths_upper'] = cumulative_deaths_upper"
   ]
  },
  {
   "cell_type": "code",
   "execution_count": 102,
   "metadata": {},
   "outputs": [],
   "source": [
    "ecdc_df = pd.read_csv('/Users/andrewjpeters/Documents/GitHub/ihme/ecdc_data.csv')\n",
    "ecdc_df = ecdc_df[\n",
    "    (ecdc_df['location'] == 'United States')\n",
    "    & (ecdc_df['date'] >= '2020-03-26')\n",
    "    & (ecdc_df['date'] < '2020-07-01')\n",
    "    ]"
   ]
  },
  {
   "cell_type": "code",
   "execution_count": 108,
   "metadata": {
    "tags": [
     "outputPrepend",
     "outputPrepend",
     "outputPrepend"
    ]
   },
   "outputs": [],
   "source": [
    "cumulative_deaths_lower = []\n",
    "cumulative_deaths_mean = []\n",
    "cumulative_deaths_upper = []\n",
    "date_list = []\n",
    "valid_until = []\n",
    "\n",
    "for date in ecdc_df.date.unique():   \n",
    "    version = [x for x in df_usa.version.unique() if x <= date][-1]\n",
    "    cum_deaths_lower_values = df_usa[df_usa['version'] == version]['cumulative_deaths_lower']\n",
    "    cum_deaths_mean_values = df_usa[df_usa['version'] == version]['cumulative_deaths_mean']\n",
    "    cum_deaths_upper_values = df_usa[df_usa['version'] == version]['cumulative_deaths_upper']\n",
    "    date_values = df_usa[df_usa['version'] == version]['date']\n",
    "    cumulative_deaths_lower.extend(cum_deaths_lower_values)\n",
    "    cumulative_deaths_mean.extend(cum_deaths_mean_values)\n",
    "    cumulative_deaths_upper.extend(cum_deaths_upper_values)\n",
    "    date_list.extend(date_values)\n",
    "    valid_until.extend([date] * len(date_values))"
   ]
  },
  {
   "cell_type": "code",
   "execution_count": 109,
   "metadata": {},
   "outputs": [],
   "source": [
    "filled_df = pd.DataFrame(list(zip(cumulative_deaths_lower, cumulative_deaths_mean, cumulative_deaths_upper, date_list, valid_until)), columns = ['cumulative_deaths_lower', 'cumulative_deaths_mean', 'cumulative_deaths_upper', 'date_list', 'valid_until'])"
   ]
  },
  {
   "cell_type": "code",
   "execution_count": 111,
   "metadata": {},
   "outputs": [
    {
     "output_type": "execute_result",
     "data": {
      "text/plain": "      cumulative_deaths_lower  cumulative_deaths_mean  \\\n9159                 94428.05              134475.185   \n9160                 94428.05              134475.185   \n9161                 94428.05              134475.185   \n9162                 94428.05              134475.185   \n9163                 94428.05              134475.185   \n\n      cumulative_deaths_upper   date_list valid_until  \n9159               242789.775  2020-08-20  2020-05-09  \n9160               242789.775  2020-08-21  2020-05-09  \n9161               242789.775  2020-08-22  2020-05-09  \n9162               242789.775  2020-08-23  2020-05-09  \n9163               242789.775  2020-08-24  2020-05-09  ",
      "text/html": "<div>\n<style scoped>\n    .dataframe tbody tr th:only-of-type {\n        vertical-align: middle;\n    }\n\n    .dataframe tbody tr th {\n        vertical-align: top;\n    }\n\n    .dataframe thead th {\n        text-align: right;\n    }\n</style>\n<table border=\"1\" class=\"dataframe\">\n  <thead>\n    <tr style=\"text-align: right;\">\n      <th></th>\n      <th>cumulative_deaths_lower</th>\n      <th>cumulative_deaths_mean</th>\n      <th>cumulative_deaths_upper</th>\n      <th>date_list</th>\n      <th>valid_until</th>\n    </tr>\n  </thead>\n  <tbody>\n    <tr>\n      <td>9159</td>\n      <td>94428.05</td>\n      <td>134475.185</td>\n      <td>242789.775</td>\n      <td>2020-08-20</td>\n      <td>2020-05-09</td>\n    </tr>\n    <tr>\n      <td>9160</td>\n      <td>94428.05</td>\n      <td>134475.185</td>\n      <td>242789.775</td>\n      <td>2020-08-21</td>\n      <td>2020-05-09</td>\n    </tr>\n    <tr>\n      <td>9161</td>\n      <td>94428.05</td>\n      <td>134475.185</td>\n      <td>242789.775</td>\n      <td>2020-08-22</td>\n      <td>2020-05-09</td>\n    </tr>\n    <tr>\n      <td>9162</td>\n      <td>94428.05</td>\n      <td>134475.185</td>\n      <td>242789.775</td>\n      <td>2020-08-23</td>\n      <td>2020-05-09</td>\n    </tr>\n    <tr>\n      <td>9163</td>\n      <td>94428.05</td>\n      <td>134475.185</td>\n      <td>242789.775</td>\n      <td>2020-08-24</td>\n      <td>2020-05-09</td>\n    </tr>\n  </tbody>\n</table>\n</div>"
     },
     "metadata": {},
     "execution_count": 111
    }
   ],
   "source": [
    "filled_df.tail()"
   ]
  },
  {
   "cell_type": "code",
   "execution_count": 125,
   "metadata": {},
   "outputs": [],
   "source": [
    "trace1 = go.Scatter(x = filled_df.date_list.values[:2],\n",
    "                    y = filled_df.cumulative_deaths_mean.values[:2],\n",
    "                    mode='lines',\n",
    "                    name='IHME projected deaths',\n",
    "                    line = dict(color='rgba(0, 63, 92, 0.80)', width=4))\n",
    "\n",
    "trace2 = go.Scatter(x = filled_df.date_list.values[:2],\n",
    "                    y = filled_df.cumulative_deaths_upper.values[:2],\n",
    "                    fill=None,\n",
    "                    mode='lines',\n",
    "                    name='IHME projected deaths (upper)',\n",
    "                    showlegend=False,\n",
    "                    line = dict(color='rgba(0, 63, 92, 0.30)', width=4))\n",
    "\n",
    "trace3 = go.Scatter(x = filled_df.date_list.values[:2],\n",
    "                    y = filled_df.cumulative_deaths_lower.values[:2],\n",
    "                    fill='tonexty',\n",
    "                    fillcolor='rgba(0, 63, 92, 0.10)',\n",
    "                    mode='lines',\n",
    "                    name='IHME projected deaths (lower)',\n",
    "                    showlegend=False,\n",
    "                    line = dict(color='rgba(0, 63, 92, 0.30)', width=4))\n",
    "\n",
    "trace4 = go.Scatter(x = ecdc_df.date,\n",
    "                    y = ecdc_df.total_deaths,\n",
    "                    mode='lines',\n",
    "                    showlegend=False,\n",
    "                    line = dict(color='rgba(214, 0, 3, 0.5)', width=2, dash='dot'))\n",
    "\n",
    "trace5 = go.Scatter(x=ecdc_df.date[:2],\n",
    "                    y=ecdc_df.total_deaths[:2],\n",
    "                    mode='lines',\n",
    "                    name='Actual Deaths',\n",
    "                    line=dict(color='rgba(214, 0, 3, 0.75)', width=4))\n",
    "\n",
    "trace6 = go.Scatter( x = ['2020-04-10'],\n",
    "                    y = [100000],\n",
    "                    mode='text',\n",
    "                    showlegend=False,\n",
    "                    line = dict(color='rgba(0, 63, 92, 0.80)', width=4))\n",
    "\n",
    "frames = [dict(data= [dict(type='scatter',\n",
    "                           x=filled_df[filled_df['valid_until'] == date]['date_list'],\n",
    "                           y=filled_df[filled_df['valid_until'] == date]['cumulative_deaths_mean']),\n",
    "                    dict(type='scatter',\n",
    "                           x=filled_df[filled_df['valid_until'] == date]['date_list'],\n",
    "                           y=filled_df[filled_df['valid_until'] == date]['cumulative_deaths_upper']),\n",
    "                    dict(type='scatter',\n",
    "                           x=filled_df[filled_df['valid_until'] == date]['date_list'],\n",
    "                           y=filled_df[filled_df['valid_until'] == date]['cumulative_deaths_lower']),\n",
    "                    dict(type='scatter',\n",
    "                         x=ecdc_df.date,\n",
    "                         y=ecdc_df.total_deaths),\n",
    "                    dict(type='scatter',\n",
    "                         x=ecdc_df.date[:k+1],\n",
    "                         y=ecdc_df.total_deaths[:k+1]),\n",
    "                    dict(type='scatter',\n",
    "                         x = ['2020-04-10'],\n",
    "                         y = [100000],\n",
    "                         mode = 'text',\n",
    "                         textposition='top center',\n",
    "                         textfont_size = 14,\n",
    "                         text = ['Actual Deaths and <br> IHME model as of ' + datetime.strftime(datetime.strptime(date,                                         '%Y-%m-%d'), '%b %d')])\n",
    "                    \n",
    "                           ],\n",
    "               traces = [0, 1, 2, 3, 4, 5],  #this means that  frames[k]['data'][0]  updates trace1, and   frames[k]['data'][1], trace2 \n",
    "              ) for k, date in enumerate(ecdc_df.date)] \n",
    "\n",
    "layout = go.Layout(\n",
    "                   showlegend=True,\n",
    "                   hovermode='closest',\n",
    "                   updatemenus=[dict(type='buttons', showactive=False,\n",
    "                                buttons=[dict(label='Play',\n",
    "                                              method='animate',\n",
    "                                              args=[None, \n",
    "                                                    dict(frame=dict(duration=3, \n",
    "                                                                    redraw=False),\n",
    "                                                         transition=dict(duration=0),\n",
    "                                                         fromcurrent=True,\n",
    "                                                         mode='immediate')])])])\n",
    "\n",
    "\n",
    "layout.update(xaxis =dict(range=['2020-03-20', '2020-06-21'], autorange=False),  yaxis =dict(range=[0, 140000], autorange=False))\n",
    "fig = go.Figure(data=[trace1, trace2, trace3, trace4, trace5, trace6], frames=frames, layout=layout)\n",
    "\n",
    "fig.write_html(\"graph.html\")"
   ]
  },
  {
   "cell_type": "code",
   "execution_count": null,
   "metadata": {},
   "outputs": [],
   "source": []
  }
 ],
 "metadata": {
  "kernelspec": {
   "display_name": "Python 3.7.4 64-bit ('anaconda3': virtualenv)",
   "language": "python",
   "name": "python37464bitanaconda3virtualenv64524b2e811e4e05962e2ce8cd1f1df5"
  },
  "language_info": {
   "codemirror_mode": {
    "name": "ipython",
    "version": 3
   },
   "file_extension": ".py",
   "mimetype": "text/x-python",
   "name": "python",
   "nbconvert_exporter": "python",
   "pygments_lexer": "ipython3",
   "version": "3.7.4-final"
  }
 },
 "nbformat": 4,
 "nbformat_minor": 4
}